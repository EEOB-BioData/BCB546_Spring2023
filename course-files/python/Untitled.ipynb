{
 "cells": [
  {
   "cell_type": "markdown",
   "id": "7d6818e4",
   "metadata": {},
   "source": [
    "1. Create a string a = 'Go Cyclones' and use python to extract the character 'l' from that string and assign it to a new variable. What index is that character assigned in the string?\n",
    "2. Convert your string a so that it is spelled out backwards 'senolcyC oG'. (Try using a for loop, or you can find examples of how to do this with Python subsetting techniques.)\n",
    "3. Create two lists l1 = [53, 16, 1, 86, 3, 33, 41, 76, 71, 4] and l2 = [30, 100, 94, 90, 17, 11, 39, 23, 90, 52]. Use python to create a new list that contains only the odd numbers from both lists. The third list should look like this: [53, 1, 3, 33, 41, 71, 17, 11, 39, 23]."
   ]
  },
  {
   "cell_type": "code",
   "execution_count": 11,
   "id": "073097a3",
   "metadata": {},
   "outputs": [
    {
     "name": "stdout",
     "output_type": "stream",
     "text": [
      "l\n",
      "l\n",
      "l\n"
     ]
    }
   ],
   "source": [
    "# a solution to 1 \n",
    "a = \"Go Cyclones\"\n",
    "def grab_a_letter(string, indx_of_letter):\n",
    "    return(string[indx_of_letter])\n",
    "\n",
    "i = 0\n",
    "c = \"\"\n",
    "while c != 'l':\n",
    "    i += 1\n",
    "    c = a[i] \n",
    "\n",
    "print(c)\n",
    "print(grab_a_letter(a, 6))\n",
    "print(a[6])"
   ]
  },
  {
   "cell_type": "code",
   "execution_count": 6,
   "id": "139d58c6",
   "metadata": {},
   "outputs": [
    {
     "data": {
      "text/plain": [
       "'senolcyC oG'"
      ]
     },
     "execution_count": 6,
     "metadata": {},
     "output_type": "execute_result"
    }
   ],
   "source": [
    "# a solution to 2\n",
    "def reverse_string(string):\n",
    "    temp = \"\"\n",
    "    for c in reversed(string):\n",
    "        temp += c\n",
    "    return(temp)\n",
    "        \n",
    "reverse_string(a)"
   ]
  }
 ],
 "metadata": {
  "kernelspec": {
   "display_name": "Python 3 (ipykernel)",
   "language": "python",
   "name": "python3"
  },
  "language_info": {
   "codemirror_mode": {
    "name": "ipython",
    "version": 3
   },
   "file_extension": ".py",
   "mimetype": "text/x-python",
   "name": "python",
   "nbconvert_exporter": "python",
   "pygments_lexer": "ipython3",
   "version": "3.10.9"
  }
 },
 "nbformat": 4,
 "nbformat_minor": 5
}
